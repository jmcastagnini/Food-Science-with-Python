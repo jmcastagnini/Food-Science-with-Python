{
 "cells": [
  {
   "cell_type": "code",
   "execution_count": 4,
   "id": "strange-lambda",
   "metadata": {},
   "outputs": [],
   "source": [
    "library(WRS2)"
   ]
  },
  {
   "cell_type": "code",
   "execution_count": 124,
   "id": "enhanced-missile",
   "metadata": {},
   "outputs": [],
   "source": [
    "df <- read.csv2(\"https://github.com/lawrence009/dsur/raw/master/data/goggles.csv\",header = TRUE, sep=',')\n",
    "df[ , c('attractiveness')] <- as.numeric(df[ , c('attractiveness')])\n",
    "df[ , c('alcohol')] <- as.factor(df[ , c('alcohol')])\n",
    "df[ , c('gender')] <- as.factor(df[ , c('gender')])"
   ]
  },
  {
   "cell_type": "code",
   "execution_count": 125,
   "id": "rental-playlist",
   "metadata": {},
   "outputs": [],
   "source": [
    "tidy_df <- t2way(attractiveness ~ gender*alcohol, data = df) "
   ]
  },
  {
   "cell_type": "code",
   "execution_count": 126,
   "id": "charged-crystal",
   "metadata": {},
   "outputs": [
    {
     "data": {
      "text/plain": [
       "Call:\n",
       "t2way(formula = attractiveness ~ gender * alcohol, data = df)\n",
       "\n",
       "                 value p.value\n",
       "gender          1.6667   0.209\n",
       "alcohol        48.2845   0.001\n",
       "gender:alcohol 26.2572   0.001\n"
      ]
     },
     "metadata": {},
     "output_type": "display_data"
    }
   ],
   "source": [
    "tidy_df"
   ]
  },
  {
   "cell_type": "code",
   "execution_count": 127,
   "id": "annual-economy",
   "metadata": {},
   "outputs": [],
   "source": [
    "f <- t2way(attractiveness ~ gender*alcohol, data = goggles)"
   ]
  },
  {
   "cell_type": "code",
   "execution_count": 128,
   "id": "noted-closure",
   "metadata": {},
   "outputs": [
    {
     "data": {
      "text/html": [
       "<dl>\n",
       "\t<dt>$Qa</dt>\n",
       "\t\t<dd>1.66666666666666</dd>\n",
       "\t<dt>$A.p.value</dt>\n",
       "\t\t<dd>0.209</dd>\n",
       "\t<dt>$Qb</dt>\n",
       "\t\t<dd>48.2845014074818</dd>\n",
       "\t<dt>$B.p.value</dt>\n",
       "\t\t<dd>0.001</dd>\n",
       "\t<dt>$Qab</dt>\n",
       "\t\t<dd>26.2571844932613</dd>\n",
       "\t<dt>$AB.p.value</dt>\n",
       "\t\t<dd>0.001</dd>\n",
       "</dl>\n"
      ],
      "text/latex": [
       "\\begin{description}\n",
       "\\item[\\$Qa] 1.66666666666666\n",
       "\\item[\\$A.p.value] 0.209\n",
       "\\item[\\$Qb] 48.2845014074818\n",
       "\\item[\\$B.p.value] 0.001\n",
       "\\item[\\$Qab] 26.2571844932613\n",
       "\\item[\\$AB.p.value] 0.001\n",
       "\\end{description}\n"
      ],
      "text/markdown": [
       "$Qa\n",
       ":   1.66666666666666\n",
       "$A.p.value\n",
       ":   0.209\n",
       "$Qb\n",
       ":   48.2845014074818\n",
       "$B.p.value\n",
       ":   0.001\n",
       "$Qab\n",
       ":   26.2571844932613\n",
       "$AB.p.value\n",
       ":   0.001\n",
       "\n",
       "\n"
      ],
      "text/plain": [
       "$Qa\n",
       "[1] 1.666667\n",
       "\n",
       "$A.p.value\n",
       "[1] 0.209\n",
       "\n",
       "$Qb\n",
       "[1] 48.2845\n",
       "\n",
       "$B.p.value\n",
       "[1] 0.001\n",
       "\n",
       "$Qab\n",
       "[1] 26.25718\n",
       "\n",
       "$AB.p.value\n",
       "[1] 0.001\n"
      ]
     },
     "metadata": {},
     "output_type": "display_data"
    }
   ],
   "source": [
    "c(f[1:6])"
   ]
  },
  {
   "cell_type": "code",
   "execution_count": 129,
   "id": "requested-encounter",
   "metadata": {},
   "outputs": [
    {
     "data": {
      "text/html": [
       "<table class=\"dataframe\">\n",
       "<caption>A data.frame: 3 × 3</caption>\n",
       "<thead>\n",
       "\t<tr><th scope=col>factor</th><th scope=col>value</th><th scope=col>pvalue</th></tr>\n",
       "\t<tr><th scope=col>&lt;chr&gt;</th><th scope=col>&lt;dbl&gt;</th><th scope=col>&lt;dbl&gt;</th></tr>\n",
       "</thead>\n",
       "<tbody>\n",
       "\t<tr><td>gender        </td><td> 1.666667</td><td>0.209</td></tr>\n",
       "\t<tr><td>alcohol       </td><td>48.284501</td><td>0.001</td></tr>\n",
       "\t<tr><td>gender:alcohol</td><td>26.257184</td><td>0.001</td></tr>\n",
       "</tbody>\n",
       "</table>\n"
      ],
      "text/latex": [
       "A data.frame: 3 × 3\n",
       "\\begin{tabular}{lll}\n",
       " factor & value & pvalue\\\\\n",
       " <chr> & <dbl> & <dbl>\\\\\n",
       "\\hline\n",
       "\t gender         &  1.666667 & 0.209\\\\\n",
       "\t alcohol        & 48.284501 & 0.001\\\\\n",
       "\t gender:alcohol & 26.257184 & 0.001\\\\\n",
       "\\end{tabular}\n"
      ],
      "text/markdown": [
       "\n",
       "A data.frame: 3 × 3\n",
       "\n",
       "| factor &lt;chr&gt; | value &lt;dbl&gt; | pvalue &lt;dbl&gt; |\n",
       "|---|---|---|\n",
       "| gender         |  1.666667 | 0.209 |\n",
       "| alcohol        | 48.284501 | 0.001 |\n",
       "| gender:alcohol | 26.257184 | 0.001 |\n",
       "\n"
      ],
      "text/plain": [
       "  factor         value     pvalue\n",
       "1 gender          1.666667 0.209 \n",
       "2 alcohol        48.284501 0.001 \n",
       "3 gender:alcohol 26.257184 0.001 "
      ]
     },
     "metadata": {},
     "output_type": "display_data"
    }
   ],
   "source": [
    "df1 = data.frame(factor=c('gender','alcohol','gender:alcohol'),\n",
    "                value = c(f$Qa,f$Qb,f$Qab),\n",
    "                 pvalue = c(f$A.p.value,f$B.p.value,f$AB.p.value))\n",
    "df1"
   ]
  }
 ],
 "metadata": {
  "kernelspec": {
   "display_name": "R",
   "language": "R",
   "name": "ir"
  },
  "language_info": {
   "codemirror_mode": "r",
   "file_extension": ".r",
   "mimetype": "text/x-r-source",
   "name": "R",
   "pygments_lexer": "r",
   "version": "4.0.3"
  }
 },
 "nbformat": 4,
 "nbformat_minor": 5
}
