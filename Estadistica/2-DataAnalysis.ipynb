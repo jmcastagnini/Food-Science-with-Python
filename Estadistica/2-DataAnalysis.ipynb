{
 "cells": [
  {
   "cell_type": "markdown",
   "metadata": {},
   "source": [
    "# Data analysis"
   ]
  },
  {
   "cell_type": "markdown",
   "metadata": {},
   "source": [
    "## One-way ANOVA\n",
    "ANOVA stands for \"Analysis of Variance\" and is an omnibus test, meaning it tests for a difference overall between all groups. The one-way ANOVA, also referred to as one factor ANOVA, is a parametric test used **to test for a statistically significant difference of an outcome between 3 or more groups**. Since it is an omnibus test, it tests for a difference overall, i.e. at least one of the groups is statistically significantly different than the others. However, if the ANOVA is significant one cannot tell which group is different. In order to tell which group is different, one has to conduct planned or post-hoc."
   ]
  },
  {
   "cell_type": "markdown",
   "metadata": {},
   "source": [
    ">### Parametric test assumptions\n",
    ">\n",
    "> - Population distributions are normal\n",
    "> - Samples have equal variances\n",
    "> - Independence"
   ]
  },
  {
   "cell_type": "code",
   "execution_count": 1,
   "metadata": {},
   "outputs": [],
   "source": [
    "import pandas as pd\n",
    "#import researchpy as rp\n",
    "import scipy.stats as stats\n",
    "import statsmodels.api as sm\n",
    "from statsmodels.formula.api import ols"
   ]
  },
  {
   "cell_type": "code",
   "execution_count": 20,
   "metadata": {},
   "outputs": [],
   "source": [
    "rslt_df = pd.read_csv('color2.csv', delimiter=';')"
   ]
  },
  {
   "cell_type": "code",
   "execution_count": 21,
   "metadata": {},
   "outputs": [
    {
     "data": {
      "text/html": [
       "<div>\n",
       "<style scoped>\n",
       "    .dataframe tbody tr th:only-of-type {\n",
       "        vertical-align: middle;\n",
       "    }\n",
       "\n",
       "    .dataframe tbody tr th {\n",
       "        vertical-align: top;\n",
       "    }\n",
       "\n",
       "    .dataframe thead th {\n",
       "        text-align: right;\n",
       "    }\n",
       "</style>\n",
       "<table border=\"1\" class=\"dataframe\">\n",
       "  <thead>\n",
       "    <tr style=\"text-align: right;\">\n",
       "      <th></th>\n",
       "      <th>Sample</th>\n",
       "      <th>Treatment</th>\n",
       "      <th>Time</th>\n",
       "      <th>L</th>\n",
       "      <th>a</th>\n",
       "      <th>b</th>\n",
       "      <th>C</th>\n",
       "      <th>h</th>\n",
       "    </tr>\n",
       "  </thead>\n",
       "  <tbody>\n",
       "    <tr>\n",
       "      <th>0</th>\n",
       "      <td>Control</td>\n",
       "      <td>0</td>\n",
       "      <td>0</td>\n",
       "      <td>63.69</td>\n",
       "      <td>31.41</td>\n",
       "      <td>20.97</td>\n",
       "      <td>37.77</td>\n",
       "      <td>0.59</td>\n",
       "    </tr>\n",
       "    <tr>\n",
       "      <th>1</th>\n",
       "      <td>Control</td>\n",
       "      <td>0</td>\n",
       "      <td>0</td>\n",
       "      <td>63.89</td>\n",
       "      <td>27.81</td>\n",
       "      <td>20.63</td>\n",
       "      <td>34.63</td>\n",
       "      <td>0.64</td>\n",
       "    </tr>\n",
       "    <tr>\n",
       "      <th>2</th>\n",
       "      <td>Control</td>\n",
       "      <td>0</td>\n",
       "      <td>0</td>\n",
       "      <td>66.31</td>\n",
       "      <td>29.11</td>\n",
       "      <td>17.82</td>\n",
       "      <td>34.13</td>\n",
       "      <td>0.55</td>\n",
       "    </tr>\n",
       "    <tr>\n",
       "      <th>3</th>\n",
       "      <td>Control</td>\n",
       "      <td>0</td>\n",
       "      <td>0</td>\n",
       "      <td>62.11</td>\n",
       "      <td>30.52</td>\n",
       "      <td>19.95</td>\n",
       "      <td>36.46</td>\n",
       "      <td>0.58</td>\n",
       "    </tr>\n",
       "    <tr>\n",
       "      <th>4</th>\n",
       "      <td>Control</td>\n",
       "      <td>0</td>\n",
       "      <td>0</td>\n",
       "      <td>64.56</td>\n",
       "      <td>25.93</td>\n",
       "      <td>17.76</td>\n",
       "      <td>31.43</td>\n",
       "      <td>0.60</td>\n",
       "    </tr>\n",
       "    <tr>\n",
       "      <th>5</th>\n",
       "      <td>Control</td>\n",
       "      <td>0</td>\n",
       "      <td>0</td>\n",
       "      <td>60.38</td>\n",
       "      <td>25.54</td>\n",
       "      <td>15.43</td>\n",
       "      <td>29.84</td>\n",
       "      <td>0.54</td>\n",
       "    </tr>\n",
       "    <tr>\n",
       "      <th>6</th>\n",
       "      <td>Control</td>\n",
       "      <td>0</td>\n",
       "      <td>0</td>\n",
       "      <td>64.30</td>\n",
       "      <td>27.99</td>\n",
       "      <td>15.82</td>\n",
       "      <td>32.15</td>\n",
       "      <td>0.51</td>\n",
       "    </tr>\n",
       "    <tr>\n",
       "      <th>7</th>\n",
       "      <td>Control</td>\n",
       "      <td>0</td>\n",
       "      <td>0</td>\n",
       "      <td>59.16</td>\n",
       "      <td>25.72</td>\n",
       "      <td>15.76</td>\n",
       "      <td>30.16</td>\n",
       "      <td>0.55</td>\n",
       "    </tr>\n",
       "    <tr>\n",
       "      <th>8</th>\n",
       "      <td>Control</td>\n",
       "      <td>0</td>\n",
       "      <td>0</td>\n",
       "      <td>66.33</td>\n",
       "      <td>23.73</td>\n",
       "      <td>13.11</td>\n",
       "      <td>27.11</td>\n",
       "      <td>0.50</td>\n",
       "    </tr>\n",
       "    <tr>\n",
       "      <th>9</th>\n",
       "      <td>Control</td>\n",
       "      <td>0</td>\n",
       "      <td>0</td>\n",
       "      <td>70.45</td>\n",
       "      <td>21.30</td>\n",
       "      <td>14.25</td>\n",
       "      <td>25.63</td>\n",
       "      <td>0.59</td>\n",
       "    </tr>\n",
       "    <tr>\n",
       "      <th>10</th>\n",
       "      <td>Control</td>\n",
       "      <td>0</td>\n",
       "      <td>0</td>\n",
       "      <td>71.35</td>\n",
       "      <td>20.43</td>\n",
       "      <td>17.57</td>\n",
       "      <td>26.95</td>\n",
       "      <td>0.71</td>\n",
       "    </tr>\n",
       "    <tr>\n",
       "      <th>11</th>\n",
       "      <td>Control</td>\n",
       "      <td>0</td>\n",
       "      <td>0</td>\n",
       "      <td>64.59</td>\n",
       "      <td>23.09</td>\n",
       "      <td>15.12</td>\n",
       "      <td>27.60</td>\n",
       "      <td>0.58</td>\n",
       "    </tr>\n",
       "    <tr>\n",
       "      <th>12</th>\n",
       "      <td>50Trehalose</td>\n",
       "      <td>50</td>\n",
       "      <td>0</td>\n",
       "      <td>51.85</td>\n",
       "      <td>17.63</td>\n",
       "      <td>14.43</td>\n",
       "      <td>22.78</td>\n",
       "      <td>0.69</td>\n",
       "    </tr>\n",
       "    <tr>\n",
       "      <th>13</th>\n",
       "      <td>50Trehalose</td>\n",
       "      <td>50</td>\n",
       "      <td>0</td>\n",
       "      <td>52.79</td>\n",
       "      <td>19.09</td>\n",
       "      <td>15.06</td>\n",
       "      <td>24.32</td>\n",
       "      <td>0.67</td>\n",
       "    </tr>\n",
       "    <tr>\n",
       "      <th>14</th>\n",
       "      <td>50Trehalose</td>\n",
       "      <td>50</td>\n",
       "      <td>0</td>\n",
       "      <td>50.25</td>\n",
       "      <td>20.55</td>\n",
       "      <td>15.86</td>\n",
       "      <td>25.96</td>\n",
       "      <td>0.66</td>\n",
       "    </tr>\n",
       "    <tr>\n",
       "      <th>15</th>\n",
       "      <td>50Trehalose</td>\n",
       "      <td>50</td>\n",
       "      <td>0</td>\n",
       "      <td>53.24</td>\n",
       "      <td>18.58</td>\n",
       "      <td>14.99</td>\n",
       "      <td>23.87</td>\n",
       "      <td>0.68</td>\n",
       "    </tr>\n",
       "    <tr>\n",
       "      <th>16</th>\n",
       "      <td>50Trehalose</td>\n",
       "      <td>50</td>\n",
       "      <td>0</td>\n",
       "      <td>46.48</td>\n",
       "      <td>22.17</td>\n",
       "      <td>20.48</td>\n",
       "      <td>30.18</td>\n",
       "      <td>0.75</td>\n",
       "    </tr>\n",
       "    <tr>\n",
       "      <th>17</th>\n",
       "      <td>50Trehalose</td>\n",
       "      <td>50</td>\n",
       "      <td>0</td>\n",
       "      <td>45.60</td>\n",
       "      <td>22.13</td>\n",
       "      <td>20.90</td>\n",
       "      <td>30.44</td>\n",
       "      <td>0.76</td>\n",
       "    </tr>\n",
       "    <tr>\n",
       "      <th>18</th>\n",
       "      <td>50Trehalose</td>\n",
       "      <td>50</td>\n",
       "      <td>0</td>\n",
       "      <td>47.22</td>\n",
       "      <td>22.78</td>\n",
       "      <td>20.86</td>\n",
       "      <td>30.89</td>\n",
       "      <td>0.74</td>\n",
       "    </tr>\n",
       "    <tr>\n",
       "      <th>19</th>\n",
       "      <td>50Trehalose</td>\n",
       "      <td>50</td>\n",
       "      <td>0</td>\n",
       "      <td>46.64</td>\n",
       "      <td>21.81</td>\n",
       "      <td>21.36</td>\n",
       "      <td>30.53</td>\n",
       "      <td>0.77</td>\n",
       "    </tr>\n",
       "    <tr>\n",
       "      <th>20</th>\n",
       "      <td>50Trehalose</td>\n",
       "      <td>50</td>\n",
       "      <td>0</td>\n",
       "      <td>48.45</td>\n",
       "      <td>25.84</td>\n",
       "      <td>19.89</td>\n",
       "      <td>32.61</td>\n",
       "      <td>0.66</td>\n",
       "    </tr>\n",
       "    <tr>\n",
       "      <th>21</th>\n",
       "      <td>50Trehalose</td>\n",
       "      <td>50</td>\n",
       "      <td>0</td>\n",
       "      <td>46.22</td>\n",
       "      <td>24.69</td>\n",
       "      <td>19.60</td>\n",
       "      <td>31.52</td>\n",
       "      <td>0.67</td>\n",
       "    </tr>\n",
       "    <tr>\n",
       "      <th>22</th>\n",
       "      <td>50Trehalose</td>\n",
       "      <td>50</td>\n",
       "      <td>0</td>\n",
       "      <td>48.29</td>\n",
       "      <td>24.73</td>\n",
       "      <td>20.20</td>\n",
       "      <td>31.93</td>\n",
       "      <td>0.68</td>\n",
       "    </tr>\n",
       "    <tr>\n",
       "      <th>23</th>\n",
       "      <td>50Trehalose</td>\n",
       "      <td>50</td>\n",
       "      <td>0</td>\n",
       "      <td>44.67</td>\n",
       "      <td>25.02</td>\n",
       "      <td>19.53</td>\n",
       "      <td>31.74</td>\n",
       "      <td>0.66</td>\n",
       "    </tr>\n",
       "    <tr>\n",
       "      <th>24</th>\n",
       "      <td>100Trehalose</td>\n",
       "      <td>100</td>\n",
       "      <td>0</td>\n",
       "      <td>59.91</td>\n",
       "      <td>10.66</td>\n",
       "      <td>15.21</td>\n",
       "      <td>18.57</td>\n",
       "      <td>0.96</td>\n",
       "    </tr>\n",
       "    <tr>\n",
       "      <th>25</th>\n",
       "      <td>100Trehalose</td>\n",
       "      <td>100</td>\n",
       "      <td>0</td>\n",
       "      <td>56.09</td>\n",
       "      <td>10.19</td>\n",
       "      <td>15.27</td>\n",
       "      <td>18.36</td>\n",
       "      <td>0.98</td>\n",
       "    </tr>\n",
       "    <tr>\n",
       "      <th>26</th>\n",
       "      <td>100Trehalose</td>\n",
       "      <td>100</td>\n",
       "      <td>0</td>\n",
       "      <td>62.07</td>\n",
       "      <td>9.83</td>\n",
       "      <td>15.37</td>\n",
       "      <td>18.24</td>\n",
       "      <td>1.00</td>\n",
       "    </tr>\n",
       "    <tr>\n",
       "      <th>27</th>\n",
       "      <td>100Trehalose</td>\n",
       "      <td>100</td>\n",
       "      <td>0</td>\n",
       "      <td>55.44</td>\n",
       "      <td>10.23</td>\n",
       "      <td>15.28</td>\n",
       "      <td>18.39</td>\n",
       "      <td>0.98</td>\n",
       "    </tr>\n",
       "    <tr>\n",
       "      <th>28</th>\n",
       "      <td>100Trehalose</td>\n",
       "      <td>100</td>\n",
       "      <td>0</td>\n",
       "      <td>61.54</td>\n",
       "      <td>10.56</td>\n",
       "      <td>16.56</td>\n",
       "      <td>19.64</td>\n",
       "      <td>1.00</td>\n",
       "    </tr>\n",
       "    <tr>\n",
       "      <th>29</th>\n",
       "      <td>100Trehalose</td>\n",
       "      <td>100</td>\n",
       "      <td>0</td>\n",
       "      <td>54.42</td>\n",
       "      <td>11.60</td>\n",
       "      <td>16.01</td>\n",
       "      <td>19.77</td>\n",
       "      <td>0.94</td>\n",
       "    </tr>\n",
       "    <tr>\n",
       "      <th>30</th>\n",
       "      <td>100Trehalose</td>\n",
       "      <td>100</td>\n",
       "      <td>0</td>\n",
       "      <td>56.66</td>\n",
       "      <td>11.77</td>\n",
       "      <td>15.40</td>\n",
       "      <td>19.38</td>\n",
       "      <td>0.92</td>\n",
       "    </tr>\n",
       "    <tr>\n",
       "      <th>31</th>\n",
       "      <td>100Trehalose</td>\n",
       "      <td>100</td>\n",
       "      <td>0</td>\n",
       "      <td>54.54</td>\n",
       "      <td>11.69</td>\n",
       "      <td>15.97</td>\n",
       "      <td>19.79</td>\n",
       "      <td>0.94</td>\n",
       "    </tr>\n",
       "    <tr>\n",
       "      <th>32</th>\n",
       "      <td>100Trehalose</td>\n",
       "      <td>100</td>\n",
       "      <td>0</td>\n",
       "      <td>60.26</td>\n",
       "      <td>12.19</td>\n",
       "      <td>14.42</td>\n",
       "      <td>18.88</td>\n",
       "      <td>0.87</td>\n",
       "    </tr>\n",
       "    <tr>\n",
       "      <th>33</th>\n",
       "      <td>100Trehalose</td>\n",
       "      <td>100</td>\n",
       "      <td>0</td>\n",
       "      <td>57.41</td>\n",
       "      <td>10.62</td>\n",
       "      <td>13.25</td>\n",
       "      <td>16.98</td>\n",
       "      <td>0.90</td>\n",
       "    </tr>\n",
       "    <tr>\n",
       "      <th>34</th>\n",
       "      <td>100Trehalose</td>\n",
       "      <td>100</td>\n",
       "      <td>0</td>\n",
       "      <td>63.08</td>\n",
       "      <td>10.23</td>\n",
       "      <td>14.33</td>\n",
       "      <td>17.61</td>\n",
       "      <td>0.95</td>\n",
       "    </tr>\n",
       "    <tr>\n",
       "      <th>35</th>\n",
       "      <td>100Trehalose</td>\n",
       "      <td>100</td>\n",
       "      <td>0</td>\n",
       "      <td>54.44</td>\n",
       "      <td>10.62</td>\n",
       "      <td>13.02</td>\n",
       "      <td>16.80</td>\n",
       "      <td>0.89</td>\n",
       "    </tr>\n",
       "  </tbody>\n",
       "</table>\n",
       "</div>"
      ],
      "text/plain": [
       "          Sample  Treatment  Time      L      a      b      C     h\n",
       "0        Control          0     0  63.69  31.41  20.97  37.77  0.59\n",
       "1        Control          0     0  63.89  27.81  20.63  34.63  0.64\n",
       "2        Control          0     0  66.31  29.11  17.82  34.13  0.55\n",
       "3        Control          0     0  62.11  30.52  19.95  36.46  0.58\n",
       "4        Control          0     0  64.56  25.93  17.76  31.43  0.60\n",
       "5        Control          0     0  60.38  25.54  15.43  29.84  0.54\n",
       "6        Control          0     0  64.30  27.99  15.82  32.15  0.51\n",
       "7        Control          0     0  59.16  25.72  15.76  30.16  0.55\n",
       "8        Control          0     0  66.33  23.73  13.11  27.11  0.50\n",
       "9        Control          0     0  70.45  21.30  14.25  25.63  0.59\n",
       "10       Control          0     0  71.35  20.43  17.57  26.95  0.71\n",
       "11       Control          0     0  64.59  23.09  15.12  27.60  0.58\n",
       "12   50Trehalose         50     0  51.85  17.63  14.43  22.78  0.69\n",
       "13   50Trehalose         50     0  52.79  19.09  15.06  24.32  0.67\n",
       "14   50Trehalose         50     0  50.25  20.55  15.86  25.96  0.66\n",
       "15   50Trehalose         50     0  53.24  18.58  14.99  23.87  0.68\n",
       "16   50Trehalose         50     0  46.48  22.17  20.48  30.18  0.75\n",
       "17   50Trehalose         50     0  45.60  22.13  20.90  30.44  0.76\n",
       "18   50Trehalose         50     0  47.22  22.78  20.86  30.89  0.74\n",
       "19   50Trehalose         50     0  46.64  21.81  21.36  30.53  0.77\n",
       "20   50Trehalose         50     0  48.45  25.84  19.89  32.61  0.66\n",
       "21   50Trehalose         50     0  46.22  24.69  19.60  31.52  0.67\n",
       "22   50Trehalose         50     0  48.29  24.73  20.20  31.93  0.68\n",
       "23   50Trehalose         50     0  44.67  25.02  19.53  31.74  0.66\n",
       "24  100Trehalose        100     0  59.91  10.66  15.21  18.57  0.96\n",
       "25  100Trehalose        100     0  56.09  10.19  15.27  18.36  0.98\n",
       "26  100Trehalose        100     0  62.07   9.83  15.37  18.24  1.00\n",
       "27  100Trehalose        100     0  55.44  10.23  15.28  18.39  0.98\n",
       "28  100Trehalose        100     0  61.54  10.56  16.56  19.64  1.00\n",
       "29  100Trehalose        100     0  54.42  11.60  16.01  19.77  0.94\n",
       "30  100Trehalose        100     0  56.66  11.77  15.40  19.38  0.92\n",
       "31  100Trehalose        100     0  54.54  11.69  15.97  19.79  0.94\n",
       "32  100Trehalose        100     0  60.26  12.19  14.42  18.88  0.87\n",
       "33  100Trehalose        100     0  57.41  10.62  13.25  16.98  0.90\n",
       "34  100Trehalose        100     0  63.08  10.23  14.33  17.61  0.95\n",
       "35  100Trehalose        100     0  54.44  10.62  13.02  16.80  0.89"
      ]
     },
     "execution_count": 21,
     "metadata": {},
     "output_type": "execute_result"
    }
   ],
   "source": [
    "rslt_df"
   ]
  },
  {
   "cell_type": "code",
   "execution_count": 22,
   "metadata": {},
   "outputs": [],
   "source": [
    "# Recoding value from numeric to string\n",
    "#df['dose'].replace({1: 'placebo', 2: 'low', 3: 'high'}, inplace= True)"
   ]
  },
  {
   "cell_type": "code",
   "execution_count": 23,
   "metadata": {},
   "outputs": [
    {
     "data": {
      "text/plain": [
       "F_onewayResult(statistic=76.47965340424217, pvalue=4.0745940890717077e-13)"
      ]
     },
     "execution_count": 23,
     "metadata": {},
     "output_type": "execute_result"
    }
   ],
   "source": [
    "stats.f_oneway(rslt_df['L'][rslt_df['Treatment'] == 0],\n",
    "               rslt_df['L'][rslt_df['Treatment'] == 50],\n",
    "               rslt_df['L'][rslt_df['Treatment'] == 100])"
   ]
  },
  {
   "cell_type": "markdown",
   "metadata": {},
   "source": [
    "## Post-hoc Testing\n",
    "By conducting post-hoc tests or planned comparisons it allows one to see which group(s) significantly differ from each other; remember that the ANOVA is an omnibus test! There are a few different approaches that can be taken while conducting these tests, ones that are implemented in StatsModels currently are:\n",
    "- Tukey Honestly Significant Difference (HSD)\n",
    "    - Tests all pairwise group comparisons while controlling for the multiple comparisons which protects the familywise error rate and from making a Type I error\n",
    "    - Not technically a \"post-hoc\" test since this test can be used as a test independently of the ANOVA and can be planned before hand\n",
    "    - More in-depth information about this statistical method can be found [here](https://dx.doi.org/10.4135/9781412961288.n478)\n"
   ]
  },
  {
   "cell_type": "code",
   "execution_count": 24,
   "metadata": {},
   "outputs": [
    {
     "data": {
      "text/html": [
       "<table class=\"simpletable\">\n",
       "<caption>Multiple Comparison of Means - Tukey HSD, FWER=0.05</caption>\n",
       "<tr>\n",
       "  <th>group1</th> <th>group2</th> <th>meandiff</th> <th>p-adj</th>   <th>lower</th>    <th>upper</th>  <th>reject</th>\n",
       "</tr>\n",
       "<tr>\n",
       "     <td>0</td>     <td>50</td>    <td>-16.285</td> <td>0.001</td> <td>-19.5307</td> <td>-13.0393</td>  <td>True</td> \n",
       "</tr>\n",
       "<tr>\n",
       "     <td>0</td>     <td>100</td>   <td>-6.7717</td> <td>0.001</td> <td>-10.0173</td>  <td>-3.526</td>   <td>True</td> \n",
       "</tr>\n",
       "<tr>\n",
       "    <td>50</td>     <td>100</td>   <td>9.5133</td>  <td>0.001</td>  <td>6.2677</td>   <td>12.759</td>   <td>True</td> \n",
       "</tr>\n",
       "</table>"
      ],
      "text/plain": [
       "<class 'statsmodels.iolib.table.SimpleTable'>"
      ]
     },
     "execution_count": 24,
     "metadata": {},
     "output_type": "execute_result"
    }
   ],
   "source": [
    "import statsmodels.stats.multicomp as mc\n",
    "\n",
    "comp = mc.MultiComparison(rslt_df['L'], rslt_df['Treatment'])\n",
    "post_hoc_res = comp.tukeyhsd()\n",
    "post_hoc_res.summary()"
   ]
  },
  {
   "cell_type": "code",
   "execution_count": 25,
   "metadata": {},
   "outputs": [
    {
     "name": "stderr",
     "output_type": "stream",
     "text": [
      "/opt/miniconda3/envs/pythonlab/lib/python3.8/site-packages/statsmodels/sandbox/stats/multicomp.py:775: UserWarning: FixedFormatter should only be used together with FixedLocator\n",
      "  ax1.set_yticklabels(np.insert(self.groupsunique.astype(str), 0, ''))\n"
     ]
    },
    {
     "data": {
      "image/png": "[encoded data removed]",
      "text/plain": [
       "<Figure size 720x432 with 1 Axes>"
      ]
     },
     "execution_count": 25,
     "metadata": {},
     "output_type": "execute_result"
    },
    {
     "data": {
      "image/png": "[encoded data removed]",
      "text/plain": [
       "<Figure size 720x432 with 1 Axes>"
      ]
     },
     "metadata": {
      "needs_background": "light"
     },
     "output_type": "display_data"
    }
   ],
   "source": [
    "post_hoc_res.plot_simultaneous()"
   ]
  },
  {
   "cell_type": "code",
   "execution_count": 26,
   "metadata": {},
   "outputs": [
    {
     "name": "stdout",
     "output_type": "stream",
     "text": [
      "The rpy2.ipython extension is already loaded. To reload it, use:\n",
      "  %reload_ext rpy2.ipython\n"
     ]
    }
   ],
   "source": [
    "%load_ext rpy2.ipython"
   ]
  },
  {
   "cell_type": "code",
   "execution_count": 28,
   "metadata": {},
   "outputs": [
    {
     "data": {
      "text/html": [
       "<div>\n",
       "<style scoped>\n",
       "    .dataframe tbody tr th:only-of-type {\n",
       "        vertical-align: middle;\n",
       "    }\n",
       "\n",
       "    .dataframe tbody tr th {\n",
       "        vertical-align: top;\n",
       "    }\n",
       "\n",
       "    .dataframe thead th {\n",
       "        text-align: right;\n",
       "    }\n",
       "</style>\n",
       "<table border=\"1\" class=\"dataframe\">\n",
       "  <thead>\n",
       "    <tr style=\"text-align: right;\">\n",
       "      <th></th>\n",
       "      <th>L</th>\n",
       "      <th>groups</th>\n",
       "    </tr>\n",
       "  </thead>\n",
       "  <tbody>\n",
       "    <tr>\n",
       "      <th>Control</th>\n",
       "      <td>64.760000</td>\n",
       "      <td>a</td>\n",
       "    </tr>\n",
       "    <tr>\n",
       "      <th>100Trehalose</th>\n",
       "      <td>57.988333</td>\n",
       "      <td>b</td>\n",
       "    </tr>\n",
       "    <tr>\n",
       "      <th>50Trehalose</th>\n",
       "      <td>48.475000</td>\n",
       "      <td>c</td>\n",
       "    </tr>\n",
       "  </tbody>\n",
       "</table>\n",
       "</div>"
      ],
      "text/plain": [
       "                      L groups\n",
       "Control       64.760000      a\n",
       "100Trehalose  57.988333      b\n",
       "50Trehalose   48.475000      c"
      ]
     },
     "execution_count": 28,
     "metadata": {},
     "output_type": "execute_result"
    }
   ],
   "source": [
    "%R library(agricolae)\n",
    "\n",
    "%R A <- read.csv2(\"color2.csv\",header = TRUE, dec = \".\")  #Open the file and read the data \n",
    "\n",
    "%R A$L<-as.numeric(A$L)  # Indicates which column has to be taken as numeric variable\n",
    "\n",
    "## Decide if the factor is numeric or categorical (can take on one of a limited, and usually fixed, number of possible values)\n",
    "## Comment or uncomment the corresponding lines\n",
    "\n",
    "## For a categorical factor\n",
    "%R m1<-aov(L~Sample,A)  \n",
    "%R out1<-HSD.test(m1,\"Sample\",console = FALSE)\n",
    "%R -o t t=out1$groups\n",
    "\n",
    "## For a numerical (continuous) factor\n",
    "#%R A$Treatment<-factor(A$Treatment) # Indicates which column has to be taken as numerical factor\n",
    "#%R m2<-aov(L~Treatment,A)\n",
    "#%R out2<-HSD.test(m2,\"Treatment\",console = FALSE)\n",
    "#%R -o t t=out2$groups"
   ]
  },
  {
   "cell_type": "markdown",
   "metadata": {},
   "source": [
    "## Parametric Test"
   ]
  },
  {
   "cell_type": "markdown",
   "metadata": {},
   "source": [
    ">## Population distributions are normal\n",
    ">\n",
    "> The assumption of normality is tested on the residuals of the model when coming from an ANOVA or regression framework. One method for testing the assumption of normality is the Shapiro-Wilk test.\n",
    "> The output is (W-test statistic, p-value)"
   ]
  },
  {
   "cell_type": "code",
   "execution_count": 29,
   "metadata": {},
   "outputs": [
    {
     "data": {
      "text/plain": [
       "ShapiroResult(statistic=0.9598560929298401, pvalue=0.21277955174446106)"
      ]
     },
     "execution_count": 29,
     "metadata": {},
     "output_type": "execute_result"
    }
   ],
   "source": [
    "model = ols('L ~ C(Sample)', data=rslt_df[['Sample', 'L']]).fit()\n",
    "aov_table = sm.stats.anova_lm(model, typ=2)\n",
    "#aov_table\n",
    "stats.shapiro(model.resid)"
   ]
  },
  {
   "cell_type": "markdown",
   "metadata": {},
   "source": [
    "If the test is non-significant (pvalue < 0.05) this indicates indicates that the residuals are normally distributed"
   ]
  },
  {
   "cell_type": "markdown",
   "metadata": {},
   "source": [
    "Another way to test the assumption is through a visual check. This is helpful when the sample is large. The reason this is true is that as the sample size increases, the statistical test's ability to reject the null hypothesis increases, i.e. it gains power to detect smaller differences as the sample size n increases.\n",
    "\n",
    "One method of visually checking the distribution is to use a probability plot with or without the correlation value,\n",
    "$R^2$, to assess the observed values correlation with the theoretical distribution in question. This can be completed by using the probplot() method from Scipy.stats. If using the $R^2$ measure, one can refer to the [NIST/SEMATECH e-handbook of statistical methods](https://www.itl.nist.gov/div898/handbook/eda/section3/eda3676.htm) to see if the value is significant.\n",
    "\n",
    "Looking at the plotted probability plot and the residual structure could be necessary to transform the data for the analysis, or to use a non-parametric statistical test such as Welch's ANOVA or the Kruskal-Wallis ANOVA."
   ]
  },
  {
   "cell_type": "code",
   "execution_count": 30,
   "metadata": {},
   "outputs": [
    {
     "data": {
      "image/png": "[encoded data removed]",
      "text/plain": [
       "<Figure size 720x720 with 1 Axes>"
      ]
     },
     "metadata": {
      "needs_background": "light"
     },
     "output_type": "display_data"
    }
   ],
   "source": [
    "import matplotlib.pyplot as plt\n",
    "\n",
    "fig = plt.figure(figsize= (10, 10))\n",
    "ax = fig.add_subplot(111)\n",
    "\n",
    "normality_plot, stat = stats.probplot(model.resid, plot= plt, rvalue= True)\n",
    "ax.set_title(\"Probability plot of model residual's\", fontsize= 20)\n",
    "ax.set\n",
    "\n",
    "plt.show()"
   ]
  },
  {
   "cell_type": "markdown",
   "metadata": {},
   "source": [
    ">## Homogeneity of variance\n",
    ">\n",
    "> The final assumption is that all groups have equal variances. One method for testing this assumption is the Levene's test of homogeneity of variances. This can be completed using the levene() method from Scipy.stats. "
   ]
  },
  {
   "cell_type": "code",
   "execution_count": 31,
   "metadata": {},
   "outputs": [
    {
     "data": {
      "text/plain": [
       "LeveneResult(statistic=0.11012938364511131, pvalue=0.8960460420084955)"
      ]
     },
     "execution_count": 31,
     "metadata": {},
     "output_type": "execute_result"
    }
   ],
   "source": [
    "stats.levene(rslt_df['L'][rslt_df['Sample'] == 'Control'],\n",
    "               rslt_df['L'][rslt_df['Sample'] == '50Trehalose'],\n",
    "               rslt_df['L'][rslt_df['Sample'] == '100Trehalose'])"
   ]
  },
  {
   "cell_type": "markdown",
   "metadata": {},
   "source": [
    "If the Levene's test of homogeneity of variances is not significant it's indicates that the groups have non-statistically significant difference in their varability. Again, it may be worthwhile to check this assumption visually as well."
   ]
  },
  {
   "cell_type": "code",
   "execution_count": 32,
   "metadata": {},
   "outputs": [
    {
     "data": {
      "image/png": "[encoded data removed]",
      "text/plain": [
       "<Figure size 720x720 with 1 Axes>"
      ]
     },
     "metadata": {
      "needs_background": "light"
     },
     "output_type": "display_data"
    }
   ],
   "source": [
    "fig = plt.figure(figsize= (10, 10))\n",
    "ax = fig.add_subplot(111)\n",
    "\n",
    "ax.set_title(\"Box Plot of L by Sample\", fontsize= 20)\n",
    "ax.set\n",
    "\n",
    "data =  [rslt_df['L'][rslt_df['Sample'] == 'Control'],\n",
    "         rslt_df['L'][rslt_df['Sample'] == '50Trehalose'],\n",
    "         rslt_df['L'][rslt_df['Sample'] == '100Trehalose']]\n",
    "\n",
    "ax.boxplot(data,\n",
    "           labels= ['Control', '50Trehalose', '100Trehalose'],\n",
    "           showmeans= True)\n",
    "\n",
    "plt.xlabel(\"Sample\")\n",
    "plt.ylabel(\"L\")\n",
    "\n",
    "plt.show()"
   ]
  },
  {
   "cell_type": "markdown",
   "metadata": {},
   "source": [
    "The graphical testing of homogeneity of variances supports the statistical testing findings which is the groups have equal variance.\n",
    "\n",
    "By default box plots show the median (orange line in graph above). The green triangle is the mean for each group which was an additional argument that was passed into the method.\n",
    "\n",
    "There are different ways to handle heteroskedasticity (unequal variance) and a decision needs to be made. Some options include, but is not limited to, transformming the dependent variable (outcome), could use trimmed means, robust standard errors, or use a parametric test suchs as the Welch's t-test. For a more in-depth look at the assumptions and some potential remedies, please check out this [page](https://www.pythonfordatascience.org/parametric-assumptions-python/). "
   ]
  },
  {
   "cell_type": "code",
   "execution_count": null,
   "metadata": {},
   "outputs": [],
   "source": []
  }
 ],
 "metadata": {
  "kernelspec": {
   "display_name": "Python 3",
   "language": "python",
   "name": "python3"
  },
  "language_info": {
   "codemirror_mode": {
    "name": "ipython",
    "version": 3
   },
   "file_extension": ".py",
   "mimetype": "text/x-python",
   "name": "python",
   "nbconvert_exporter": "python",
   "pygments_lexer": "ipython3",
   "version": "3.8.8"
  }
 },
 "nbformat": 4,
 "nbformat_minor": 4
}
